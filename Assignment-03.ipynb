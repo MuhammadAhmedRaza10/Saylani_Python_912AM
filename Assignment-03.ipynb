{
 "cells": [
  {
   "cell_type": "markdown",
   "id": "c20eff3f-c864-4ac1-9a46-a6db5b0e7772",
   "metadata": {},
   "source": [
    "### 1. Write a program that accepts a string from user. Your program should count and display number of vowels in that string. \n",
    " "
   ]
  },
  {
   "cell_type": "code",
   "execution_count": 3,
   "id": "79a5278e-56bf-47e7-8833-00c310505c41",
   "metadata": {},
   "outputs": [
    {
     "name": "stdout",
     "output_type": "stream",
     "text": [
      "vowels :  ['a', 'e']\n",
      "Vowels count :  2\n"
     ]
    }
   ],
   "source": [
    "string = input('Enter string: \\n')\n",
    "vowels = ['a', 'e', 'i', 'o', 'u']\n",
    "result = []\n",
    "for letter in vowels:\n",
    "    if letter in string:\n",
    "        result.append(letter)\n",
    "print('vowels : ', result) \n",
    "print('Vowels count : ', len(result))\n",
    "\n"
   ]
  },
  {
   "cell_type": "markdown",
   "id": "e98ba796-d1c5-4a90-8a52-c72ca0d2db0f",
   "metadata": {},
   "source": [
    "### 2. Write a program that reads a string from keyboard and display:\n",
    "* The number of uppercase letters in the string\n",
    "* The number of lowercase letters in the string\n",
    "* The number of digits in the string\n",
    "* The number of whitespace characters in the string"
   ]
  },
  {
   "cell_type": "code",
   "execution_count": 4,
   "id": "ea72b849-b3e6-4959-8ace-dbf69853c2c3",
   "metadata": {},
   "outputs": [
    {
     "name": "stdout",
     "output_type": "stream",
     "text": [
      "0\n",
      "0\n",
      "0\n",
      "1\n"
     ]
    }
   ],
   "source": [
    "string = input('Enter string :\\n')\n",
    "uppercase_letter = []\n",
    "lowercase_letter = []\n",
    "whitespaces_letter = []\n",
    "digits = [] \n",
    "for char in string:\n",
    "    if char.isupper():\n",
    "        uppercase_letter.append(char)\n",
    "    if char.islower():\n",
    "        lowercase_letter.append(char)\n",
    "    if char.isspace():\n",
    "        whitespaces_letter.append(char)\n",
    "    if char.isdigit():\n",
    "        digits.append(char)\n",
    "        \n",
    "print(len(uppercase_letter))\n",
    "print(len(lowercase_letter))\n",
    "print(len(whitespaces_letter))\n",
    "print(len(digits))\n"
   ]
  },
  {
   "cell_type": "markdown",
   "id": "f6a169fe-d974-4219-aa26-f38c397ba80e",
   "metadata": {},
   "source": [
    "3. Write a Python program that accepts a string from user. Your program should create and display a\n",
    "new string where the first and last characters have been exchanged. \n"
   ]
  },
  {
   "cell_type": "code",
   "execution_count": 1,
   "id": "852203aa-8cc7-4931-8ece-5575017cc4d7",
   "metadata": {},
   "outputs": [
    {
     "name": "stdout",
     "output_type": "stream",
     "text": [
      "dhmea\n"
     ]
    }
   ],
   "source": [
    "string = input('Enter string:\\n')\n",
    "\n",
    "if len(string) < 2:\n",
    "    new_string = string\n",
    "\n",
    "else:\n",
    "    new_string = string[-1] + string[1:-1] + string[0]\n",
    "    \n",
    "print(new_string) \n",
    "\n"
   ]
  },
  {
   "cell_type": "markdown",
   "id": "fc06bee4-f482-4442-a3a7-f2a7f709b526",
   "metadata": {},
   "source": [
    "### 4. Write a Python program that accepts a string from user. Your program should create a new string in\n",
    "reverse of first string and display it.\n",
    "For example if the user enters the string 'EXAM' then new string would be 'MAXE' \n"
   ]
  },
  {
   "cell_type": "code",
   "execution_count": 2,
   "id": "9d6c5809-90db-4129-8fa7-faf2a26f32bd",
   "metadata": {},
   "outputs": [
    {
     "name": "stdout",
     "output_type": "stream",
     "text": [
      "demha\n"
     ]
    }
   ],
   "source": [
    "user_string = input('Enter string: ')\n",
    "\n",
    "result = reverse_string = user_string[::-1]\n",
    "\n",
    "print(result)\n"
   ]
  },
  {
   "cell_type": "markdown",
   "id": "f2659dce-ed24-4d72-9d3f-52182786ef03",
   "metadata": {},
   "source": [
    "### 5. Write a Python program that accepts a string from user. Your program should create a new string by \n",
    "shifting one position to left.\n",
    "For example if the user enters the string 'examination 2021' then new string would be 'xamination\n",
    "2021e' "
   ]
  },
  {
   "cell_type": "code",
   "execution_count": 5,
   "id": "5c84d54b-d254-4b66-9470-ad407ef1382a",
   "metadata": {},
   "outputs": [
    {
     "name": "stdout",
     "output_type": "stream",
     "text": [
      "hmeda\n"
     ]
    }
   ],
   "source": [
    "user_string = input(\"Enter some string: \")\n",
    "\n",
    "if len(user_string) < 1:\n",
    "    new_string = user_string\n",
    "else:\n",
    "    new_string = user_string[1:] + user_string[0] \n",
    "\n",
    "print(new_string) \n",
    "    \n",
    "\n"
   ]
  },
  {
   "cell_type": "markdown",
   "id": "c0f86667-e584-4d2a-ba00-e29058c9d57c",
   "metadata": {},
   "source": [
    "### 6. Write a program that asks the user to input his name and print its initials. Assuming that the user always types first name, middle name and last name and does not include any unnecessary spaces.\n",
    "For example, if the user enters Ajay Kumar Garg the program should display A. K. G.\n",
    "Note:Don't use split() method \n"
   ]
  },
  {
   "cell_type": "code",
   "execution_count": 20,
   "id": "fb747aa1-8fee-4520-8029-4e07e4db324f",
   "metadata": {},
   "outputs": [
    {
     "name": "stdout",
     "output_type": "stream",
     "text": [
      "Name initials:  D.\n"
     ]
    }
   ],
   "source": [
    "full_name = input(\"Enter Full name: \")\n",
    "initials = \"\"\n",
    "for i in range(len(full_name)):\n",
    "    if i == 0  or full_name[i-1] == \" \":\n",
    "        initials += full_name[i].upper() + \". \"\n",
    "        \n",
    "print(\"Name initials: \", initials.strip()) \n"
   ]
  },
  {
   "cell_type": "markdown",
   "id": "113e3a98-851d-4402-af47-f856549f22e0",
   "metadata": {},
   "source": [
    "### 7. A palindrome is a string that reads the same backward as forward. For example, the words dad, madam and radar are all palindromes. Write a programs that determines whether the string is a palindrome.\n",
    "Note: do not use reverse() method \n"
   ]
  },
  {
   "cell_type": "code",
   "execution_count": 6,
   "id": "fbf53230-ad94-4bd4-8518-87b16b9dfdf2",
   "metadata": {},
   "outputs": [
    {
     "name": "stdout",
     "output_type": "stream",
     "text": [
      "Palindrome\n",
      "maham\n"
     ]
    }
   ],
   "source": [
    "string = input(\"Enter String: \")\n",
    "\n",
    "reversed_string = \"\"\n",
    "reversed_string += string[::-1]\n",
    "\n",
    "if string == reversed_string:\n",
    "    print(\"Palindrome\")\n",
    "else:\n",
    "    print(\"Not palindrome\")\n",
    "\n",
    "\n",
    "print(reversed_string)\n"
   ]
  },
  {
   "cell_type": "markdown",
   "id": "26eded88-ed9b-4ba0-a5cd-bc1fbed0b3fb",
   "metadata": {},
   "source": [
    "### 8. Write a program that display following output:\n",
    "SHIFT\n",
    "HIFTS\n",
    "IFTSH\n",
    "FTSHI\n",
    "TSHIF\n",
    "SHIFT\n"
   ]
  },
  {
   "cell_type": "code",
   "execution_count": 22,
   "id": "af5798ac-53cc-42a8-9bf2-b92432b5b136",
   "metadata": {},
   "outputs": [
    {
     "name": "stdout",
     "output_type": "stream",
     "text": [
      "SHIFT\n",
      "HIFTS\n",
      "IFTSH\n",
      "FTSHI\n",
      "TSHIF\n",
      "SHIFT\n"
     ]
    }
   ],
   "source": [
    "word = \"SHIFT\"\n",
    "\n",
    "for i in range(len(word) + 1):\n",
    "    rotated_word = word[i: ] + word[ :i]\n",
    "    \n",
    "    print(rotated_word)\n"
   ]
  },
  {
   "cell_type": "markdown",
   "id": "6447c47c-01fb-44ae-8baf-4278990b6eda",
   "metadata": {},
   "source": [
    "### 9. Write a program in python that accepts a string to setup a passwords. Your entered password must \n",
    "meet the following requirements:\n",
    "The password must be at least eight characters long.\n",
    "It must contain at least one uppercase letter.\n",
    "It must contain at least one lowercase letter.\n",
    "It must contain at least one numeric digit.\n",
    "Your program should should perform this validation.  "
   ]
  },
  {
   "cell_type": "code",
   "execution_count": 8,
   "id": "80409e0a-8cfc-4e0f-9e1e-d08175ac3882",
   "metadata": {},
   "outputs": [
    {
     "name": "stdout",
     "output_type": "stream",
     "text": [
      "The password must be at least eight characters long. \n",
      "It must contain at least one uppercase letter.\n",
      "It must contain at least one lowercase letter.\n",
      "It must contain at least one numeric digit.\n",
      "\"Your program should perform this validation.\"\n",
      "Password is Valid !!\n"
     ]
    }
   ],
   "source": [
    "print(\"The password must be at least eight characters long. \")\n",
    "print(\"It must contain at least one uppercase letter.\")\n",
    "print(\"It must contain at least one lowercase letter.\")\n",
    "print(\"It must contain at least one numeric digit.\")\n",
    "print(\"\\\"Your program should perform this validation.\\\"\")\n",
    "password = input(\"Enter a password: \")\n",
    "is_valid = True\n",
    "    \n",
    "if len(password) < 8:\n",
    "    is_valid = False\n",
    "    error_message = \"Password must be at least 8 characters long.\"\n",
    "    \n",
    "elif not any(char.isupper() for char in password):\n",
    "    is_valid = False\n",
    "    error_message = \"Password must contain at least one uppercase letter.\"\n",
    "\n",
    "elif not any(char.isdigit() for char in password):\n",
    "    is_valid = False\n",
    "    error_message = \"Password must contain at least one numeric digit.\"\n",
    "    \n",
    "elif not any(char.islower() for char in password):\n",
    "    is_valid = False\n",
    "    error_message = \"Password must contain at least one lowercase letter.\"\n",
    "    \n",
    "if is_valid:\n",
    "    print(\"Password is Valid !!\")\n",
    "else:\n",
    "    print(error_message)\n",
    "    print('Password is invalid. Please try again.')"
   ]
  },
  {
   "cell_type": "markdown",
   "id": "67596bce",
   "metadata": {},
   "source": [
    "# List Assignment #4"
   ]
  },
  {
   "cell_type": "markdown",
   "id": "84123a86",
   "metadata": {},
   "source": [
    "1. Write a program that accepts a list from user and print the alternate element of list. \n"
   ]
  },
  {
   "cell_type": "code",
   "execution_count": 24,
   "id": "01cbb6bb",
   "metadata": {},
   "outputs": [
    {
     "name": "stdout",
     "output_type": "stream",
     "text": [
      "Alternate elements of the list are:\n",
      "dfg\n"
     ]
    }
   ],
   "source": [
    "# Accepting a list from the user\n",
    "user_list = input(\"Enter a list of elements separated by spaces: \").split()\n",
    "# Printing alternate elements\n",
    "print(\"Alternate elements of the list are:\")\n",
    "for i in range(0, len(user_list), 2):\n",
    "    print(user_list[i])\n"
   ]
  },
  {
   "cell_type": "markdown",
   "id": "208ddeef",
   "metadata": {},
   "source": [
    "2. Write a program that accepts a list from user. Your program should reverse the content of list and\n",
    "display it. Do not use reverse() method. \n"
   ]
  },
  {
   "cell_type": "code",
   "execution_count": 25,
   "id": "4525ceac",
   "metadata": {},
   "outputs": [
    {
     "name": "stdout",
     "output_type": "stream",
     "text": [
      "Reversed list is:\n",
      "['dfg']\n"
     ]
    }
   ],
   "source": [
    "# Accepting a list from the user\n",
    "user_list = input(\"Enter a list of elements separated by spaces: \").split()\n",
    "# Reversing the list manually\n",
    "reversed_list = []\n",
    "for element in user_list:\n",
    "    reversed_list.insert(0, element)\n",
    "print(\"Reversed list is:\")\n",
    "print(reversed_list)\n"
   ]
  },
  {
   "cell_type": "markdown",
   "id": "e96f0685",
   "metadata": {},
   "source": [
    "3. Find and display the largest number of a list without using built-in function max(). Your program\n",
    "should ask the user to input values in list from keyboard"
   ]
  },
  {
   "cell_type": "code",
   "execution_count": 26,
   "id": "885d5c20",
   "metadata": {},
   "outputs": [
    {
     "ename": "ValueError",
     "evalue": "invalid literal for int() with base 10: 'dfg'",
     "output_type": "error",
     "traceback": [
      "\u001b[1;31m---------------------------------------------------------------------------\u001b[0m",
      "\u001b[1;31mValueError\u001b[0m                                Traceback (most recent call last)",
      "Cell \u001b[1;32mIn[26], line 2\u001b[0m\n\u001b[0;32m      1\u001b[0m \u001b[38;5;66;03m# Accepting list from user\u001b[39;00m\n\u001b[1;32m----> 2\u001b[0m user_list \u001b[38;5;241m=\u001b[39m \u001b[38;5;28;43mlist\u001b[39;49m\u001b[43m(\u001b[49m\u001b[38;5;28;43mmap\u001b[39;49m\u001b[43m(\u001b[49m\u001b[38;5;28;43mint\u001b[39;49m\u001b[43m,\u001b[49m\u001b[43m \u001b[49m\u001b[38;5;28;43minput\u001b[39;49m\u001b[43m(\u001b[49m\u001b[38;5;124;43m\"\u001b[39;49m\u001b[38;5;124;43mEnter numbers separated by spaces: \u001b[39;49m\u001b[38;5;124;43m\"\u001b[39;49m\u001b[43m)\u001b[49m\u001b[38;5;241;43m.\u001b[39;49m\u001b[43msplit\u001b[49m\u001b[43m(\u001b[49m\u001b[43m)\u001b[49m\u001b[43m)\u001b[49m\u001b[43m)\u001b[49m\n\u001b[0;32m      3\u001b[0m \u001b[38;5;66;03m# Finding the largest number\u001b[39;00m\n\u001b[0;32m      4\u001b[0m largest \u001b[38;5;241m=\u001b[39m user_list[\u001b[38;5;241m0\u001b[39m]\n",
      "\u001b[1;31mValueError\u001b[0m: invalid literal for int() with base 10: 'dfg'"
     ]
    }
   ],
   "source": [
    "# Accepting list from user\n",
    "user_list = list(map(int, input(\"Enter numbers separated by spaces: \").split()))\n",
    "# Finding the largest number\n",
    "largest = user_list[0]\n",
    "for num in user_list:\n",
    "    if num > largest:\n",
    "        largest = num\n",
    "print(\"The largest number in the list is:\", largest)\n"
   ]
  },
  {
   "cell_type": "markdown",
   "id": "a0259da8",
   "metadata": {},
   "source": [
    " 4. Write a program that rotates the element of a list so that the element at the first index moves to the\n",
    "second index, the element in the second index moves to the third index, etc., and the element in the last\n",
    "index moves to the first index. \n"
   ]
  },
  {
   "cell_type": "code",
   "execution_count": null,
   "id": "57962c04",
   "metadata": {},
   "outputs": [],
   "source": [
    "# Accepting a list from the user\n",
    "user_list = input(\"Enter a list of elements separated by spaces: \").split()\n",
    "# Rotating the list\n",
    "if len(user_list) > 0:\n",
    "    rotated_list = user_list[1:] + [user_list[0]]\n",
    "else:\n",
    "    rotated_list = user_list\n",
    "print(\"Rotated list is:\")\n",
    "print(rotated_list)\n"
   ]
  },
  {
   "cell_type": "markdown",
   "id": "d3e39d53",
   "metadata": {},
   "source": [
    "5. Write a program that input a string and ask user to delete a given word from a string. \n"
   ]
  },
  {
   "cell_type": "code",
   "execution_count": null,
   "id": "438db985",
   "metadata": {},
   "outputs": [],
   "source": [
    "# Inputting the string and the word to delete\n",
    "input_string = input(\"Enter the string: \")\n",
    "word_to_delete = input(\"Enter the word to delete: \")\n",
    "# Removing the word\n",
    "updated_string = ' '.join(word for word in input_string.split() if word != word_to_delete)\n",
    "print(\"Updated string is:\")\n",
    "print(updated_string)\n"
   ]
  },
  {
   "cell_type": "markdown",
   "id": "5aa05bff",
   "metadata": {},
   "source": [
    "6. Write a program that reads a string from the user containing a date in the form mm/dd/yyyy. It\n",
    "should print the date in the form March 12, 2021. \n"
   ]
  },
  {
   "cell_type": "code",
   "execution_count": null,
   "id": "a3de782c",
   "metadata": {},
   "outputs": [],
   "source": [
    "import datetime\n",
    "\n",
    "# Inputting the date\n",
    "date_str = input(\"Enter a date (mm/dd/yyyy): \")\n",
    "# Converting the date\n",
    "date_obj = datetime.datetime.strptime(date_str, '%m/%d/%Y')\n",
    "formatted_date = date_obj.strftime('%B %d, %Y')\n",
    "print(\"Formatted date is:\")\n",
    "print(formatted_date)\n"
   ]
  },
  {
   "cell_type": "markdown",
   "id": "4c57d498",
   "metadata": {},
   "source": [
    " 7. Write a program with a function that accepts a string from keyboard and create a new string after\n",
    "converting character of each word capitalized. For instance, if the sentence is \"stop and smell the roses.\"\n",
    "the output should be \"Stop And Smell The Roses\" \n"
   ]
  },
  {
   "cell_type": "code",
   "execution_count": null,
   "id": "55cd9be1",
   "metadata": {},
   "outputs": [],
   "source": [
    "def capitalize_words(sentence):\n",
    "    return ' '.join(word.capitalize() for word in sentence.split())\n",
    "\n",
    "# Inputting the sentence\n",
    "input_sentence = input(\"Enter a sentence: \")\n",
    "# Capitalizing words\n",
    "capitalized_sentence = capitalize_words(input_sentence)\n",
    "print(\"Capitalized sentence is:\")\n",
    "print(capitalized_sentence)\n"
   ]
  },
  {
   "cell_type": "markdown",
   "id": "33e39e44",
   "metadata": {},
   "source": [
    "8. Find the sum of each row of matrix of size m x n. For example for the following matrix output will be\n",
    "like this :\n",
    "Sum of row 1 = 32\n",
    "Sum of row 2 = 31\n",
    "Sum of row 3 = 63 "
   ]
  },
  {
   "cell_type": "code",
   "execution_count": null,
   "id": "9298af9d",
   "metadata": {},
   "outputs": [],
   "source": [
    "# Inputting the matrix\n",
    "rows = int(input(\"Enter number of rows: \"))\n",
    "cols = int(input(\"Enter number of columns: \"))\n",
    "matrix = []\n",
    "for i in range(rows):\n",
    "    row = list(map(int, input(f\"Enter row {i+1} elements separated by spaces: \").split()))\n",
    "    matrix.append(row)\n",
    "\n",
    "# Calculating the sum of each row\n",
    "for i, row in enumerate(matrix):\n",
    "    row_sum = sum(row)\n",
    "    print(f\"Sum of row {i+1} = {row_sum}\")\n"
   ]
  },
  {
   "cell_type": "markdown",
   "id": "135fbd2c",
   "metadata": {},
   "source": [
    "9. Write a program to add two matrices of size n x m. \n"
   ]
  },
  {
   "cell_type": "code",
   "execution_count": null,
   "id": "2ccc03e6",
   "metadata": {},
   "outputs": [],
   "source": [
    "def add_matrices(matrix1, matrix2):\n",
    "    rows = len(matrix1)\n",
    "    cols = len(matrix1[0])\n",
    "    result = [[0] * cols for _ in range(rows)]\n",
    "    for i in range(rows):\n",
    "        for j in range(cols):\n",
    "            result[i][j] = matrix1[i][j] + matrix2[i][j]\n",
    "    return result\n",
    "\n",
    "# Inputting the first matrix\n",
    "rows = int(input(\"Enter number of rows: \"))\n",
    "cols = int(input(\"Enter number of columns: \"))\n",
    "matrix1 = []\n",
    "for i in range(rows):\n",
    "    row = list(map(int, input(f\"Enter row {i+1} elements separated by spaces: \").split()))\n",
    "    matrix1.append(row)\n",
    "\n",
    "# Inputting the second matrix\n",
    "matrix2 = []\n",
    "for i in range(rows):\n",
    "    row = list(map(int, input(f\"Enter row {i+1} elements separated by spaces: \").split()))\n",
    "    matrix2.append(row)\n",
    "\n",
    "# Adding the matrices\n",
    "sum_matrix = add_matrices(matrix1, matrix2)\n",
    "print(\"Sum of the matrices is:\")\n",
    "for row in sum_matrix:\n",
    "    print(row)\n"
   ]
  },
  {
   "cell_type": "markdown",
   "id": "0138972b",
   "metadata": {},
   "source": [
    "10. Write a program to multiply two matrices "
   ]
  },
  {
   "cell_type": "code",
   "execution_count": null,
   "id": "77314d7d",
   "metadata": {},
   "outputs": [
    {
     "ename": "ValueError",
     "evalue": "Number of columns in first matrix must be equal to number of rows in second matrix",
     "output_type": "error",
     "traceback": [
      "\u001b[1;31m---------------------------------------------------------------------------\u001b[0m",
      "\u001b[1;31mValueError\u001b[0m                                Traceback (most recent call last)",
      "Cell \u001b[1;32mIn[6], line 33\u001b[0m\n\u001b[0;32m     30\u001b[0m     matrix2\u001b[38;5;241m.\u001b[39mappend(row)\n\u001b[0;32m     32\u001b[0m \u001b[38;5;66;03m# Multiplying the matrices\u001b[39;00m\n\u001b[1;32m---> 33\u001b[0m product_matrix \u001b[38;5;241m=\u001b[39m \u001b[43mmultiply_matrices\u001b[49m\u001b[43m(\u001b[49m\u001b[43mmatrix1\u001b[49m\u001b[43m,\u001b[49m\u001b[43m \u001b[49m\u001b[43mmatrix2\u001b[49m\u001b[43m)\u001b[49m\n\u001b[0;32m     34\u001b[0m \u001b[38;5;28mprint\u001b[39m(\u001b[38;5;124m\"\u001b[39m\u001b[38;5;124mProduct of the matrices is:\u001b[39m\u001b[38;5;124m\"\u001b[39m)\n\u001b[0;32m     35\u001b[0m \u001b[38;5;28;01mfor\u001b[39;00m row \u001b[38;5;129;01min\u001b[39;00m product_matrix:\n",
      "Cell \u001b[1;32mIn[6], line 7\u001b[0m, in \u001b[0;36mmultiply_matrices\u001b[1;34m(matrix1, matrix2)\u001b[0m\n\u001b[0;32m      5\u001b[0m cols2 \u001b[38;5;241m=\u001b[39m \u001b[38;5;28mlen\u001b[39m(matrix2[\u001b[38;5;241m0\u001b[39m])\n\u001b[0;32m      6\u001b[0m \u001b[38;5;28;01mif\u001b[39;00m cols1 \u001b[38;5;241m!=\u001b[39m rows2:\n\u001b[1;32m----> 7\u001b[0m     \u001b[38;5;28;01mraise\u001b[39;00m \u001b[38;5;167;01mValueError\u001b[39;00m(\u001b[38;5;124m\"\u001b[39m\u001b[38;5;124mNumber of columns in first matrix must be equal to number of rows in second matrix\u001b[39m\u001b[38;5;124m\"\u001b[39m)\n\u001b[0;32m      9\u001b[0m result \u001b[38;5;241m=\u001b[39m [[\u001b[38;5;241m0\u001b[39m] \u001b[38;5;241m*\u001b[39m cols2 \u001b[38;5;28;01mfor\u001b[39;00m _ \u001b[38;5;129;01min\u001b[39;00m \u001b[38;5;28mrange\u001b[39m(rows1)]\n\u001b[0;32m     10\u001b[0m \u001b[38;5;28;01mfor\u001b[39;00m i \u001b[38;5;129;01min\u001b[39;00m \u001b[38;5;28mrange\u001b[39m(rows1):\n",
      "\u001b[1;31mValueError\u001b[0m: Number of columns in first matrix must be equal to number of rows in second matrix"
     ]
    }
   ],
   "source": [
    "def multiply_matrices(matrix1, matrix2):\n",
    "    rows1 = len(matrix1)\n",
    "    cols1 = len(matrix1[0])\n",
    "    rows2 = len(matrix2)\n",
    "    cols2 = len(matrix2[0])\n",
    "    if cols1 != rows2:\n",
    "        raise ValueError(\"Number of columns in first matrix must be equal to number of rows in second matrix\")\n",
    "    \n",
    "    result = [[0] * cols2 for _ in range(rows1)]\n",
    "    for i in range(rows1):\n",
    "        for j in range(cols2):\n",
    "            for k in range(cols1):\n",
    "                result[i][j] += matrix1[i][k] * matrix2[k][j]\n",
    "    return result\n",
    "\n",
    "# Inputting the first matrix\n",
    "rows1 = int(input(\"Enter number of rows for first matrix: \"))\n",
    "cols1 = int(input(\"Enter number of columns for first matrix: \"))\n",
    "matrix1 = []\n",
    "for i in range(rows1):\n",
    "    row = list(map(int, input(f\"Enter row {i+1} elements separated by spaces: \").split()))\n",
    "    matrix1.append(row)\n",
    "\n",
    "# Inputting the second matrix\n",
    "rows2 = int(input(\"Enter number of rows for second matrix: \"))\n",
    "cols2 = int(input(\"Enter number of columns for second matrix: \"))\n",
    "matrix2 = []\n",
    "for i in range(rows2):\n",
    "    row = list(map(int, input(f\"Enter row {i+1} elements separated by spaces: \").split()))\n",
    "    matrix2.append(row)\n",
    "\n",
    "# Multiplying the matrices\n",
    "product_matrix = multiply_matrices(matrix1, matrix2)\n",
    "print(\"Product of the matrices is:\")\n",
    "for row in product_matrix:\n",
    "    print(row)\n"
   ]
  },
  {
   "cell_type": "markdown",
   "id": "2be2096e",
   "metadata": {},
   "source": [
    "# Looping Structures #5\n"
   ]
  },
  {
   "cell_type": "markdown",
   "id": "f75044a3",
   "metadata": {},
   "source": [
    "1. Write a Python program to print the numbers from 1 to 10 using a for loop. \n"
   ]
  },
  {
   "cell_type": "code",
   "execution_count": null,
   "id": "0ce001fc",
   "metadata": {},
   "outputs": [
    {
     "name": "stdout",
     "output_type": "stream",
     "text": [
      "1\n",
      "2\n",
      "3\n",
      "4\n",
      "5\n",
      "6\n",
      "7\n",
      "8\n",
      "9\n",
      "10\n"
     ]
    }
   ],
   "source": [
    "for i in range(1, 11):\n",
    "    print(i)\n"
   ]
  },
  {
   "cell_type": "markdown",
   "id": "3d9b3e5f",
   "metadata": {},
   "source": [
    "2. Write a Python program to print the numbers from 20 to 1 using a while loop.\n"
   ]
  },
  {
   "cell_type": "code",
   "execution_count": null,
   "id": "aa45b7e9",
   "metadata": {},
   "outputs": [],
   "source": [
    "num = 20\n",
    "while num >= 1:\n",
    "    print(num)\n",
    "    num -= 1\n"
   ]
  },
  {
   "cell_type": "markdown",
   "id": "009219a2",
   "metadata": {},
   "source": [
    "3. Write a program to print even numbers from 1 to 10. \n"
   ]
  },
  {
   "cell_type": "code",
   "execution_count": null,
   "id": "6e6320a3",
   "metadata": {},
   "outputs": [],
   "source": [
    "for i in range(1, 11):\n",
    "    if i % 2 == 0:\n",
    "        print(i)\n"
   ]
  },
  {
   "cell_type": "markdown",
   "id": "8b7811e1",
   "metadata": {},
   "source": [
    "4. Write a program that prompts the user to enter a number n and prints all the\n",
    "numbers from 1 to n. \n"
   ]
  },
  {
   "cell_type": "code",
   "execution_count": null,
   "id": "0cb5a9f6",
   "metadata": {},
   "outputs": [],
   "source": [
    "n = int(input(\"Enter a number: \"))\n",
    "for i in range(1, n + 1):\n",
    "    print(i)\n"
   ]
  },
  {
   "cell_type": "markdown",
   "id": "5f426962",
   "metadata": {},
   "source": [
    "5. Write a program that prompts the user to enter a number n, and then prints all the\n",
    "odd numbers between 1 and n. "
   ]
  },
  {
   "cell_type": "code",
   "execution_count": null,
   "id": "2d263063",
   "metadata": {},
   "outputs": [],
   "source": [
    "n = int(input(\"Enter a number: \"))\n",
    "for i in range(1, n + 1):\n",
    "    if i % 2 != 0:\n",
    "        print(i)\n"
   ]
  },
  {
   "cell_type": "markdown",
   "id": "d3d16ed6",
   "metadata": {},
   "source": [
    "6. Write a program that prints 'Happy Birthday!' five times on screen. \n"
   ]
  },
  {
   "cell_type": "code",
   "execution_count": null,
   "id": "27896140",
   "metadata": {},
   "outputs": [
    {
     "name": "stdout",
     "output_type": "stream",
     "text": [
      "Happy Birthday!\n",
      "Happy Birthday!\n",
      "Happy Birthday!\n",
      "Happy Birthday!\n",
      "Happy Birthday!\n"
     ]
    }
   ],
   "source": [
    "for _ in range(5):\n",
    "    print('Happy Birthday!')\n"
   ]
  },
  {
   "cell_type": "markdown",
   "id": "2e1747d4",
   "metadata": {},
   "source": [
    "7. Write a program that takes a number n as input from the user and generates the first\n",
    "n terms of the series formed by squaring the natural numbers.\n",
    "Sample output\n",
    "Enter a number: 6\n",
    "The first 6 terms of the series are:\n",
    "1 4 9 16 25 36 \n"
   ]
  },
  {
   "cell_type": "code",
   "execution_count": null,
   "id": "bac60eed",
   "metadata": {},
   "outputs": [
    {
     "name": "stdout",
     "output_type": "stream",
     "text": [
      "The first 2 terms of the series are:\n",
      "1 4 "
     ]
    }
   ],
   "source": [
    "n = int(input(\"Enter a number: \"))\n",
    "print(\"The first\", n, \"terms of the series are:\")\n",
    "for i in range(1, n + 1):\n",
    "    print(i ** 2, end=' ')\n"
   ]
  },
  {
   "cell_type": "markdown",
   "id": "a97f2a6f",
   "metadata": {},
   "source": [
    "8. Write a program that prompts the user to input a number and prints its multiplication\n",
    "table. \n"
   ]
  },
  {
   "cell_type": "code",
   "execution_count": null,
   "id": "d94fc359",
   "metadata": {},
   "outputs": [],
   "source": [
    "num = int(input(\"Enter a number: \"))\n",
    "for i in range(1, 11):\n",
    "    print(f\"{num} x {i} = {num * i}\")\n"
   ]
  },
  {
   "cell_type": "markdown",
   "id": "e1ef5998",
   "metadata": {},
   "source": [
    "9. Write a Python program to print the first 8 terms of an arithmetic progression starting\n",
    "with 3 and having a common difference of 4.\n",
    "The program should output the following sequence:\n",
    "3 7 11 15 19 23 27 31 \n"
   ]
  },
  {
   "cell_type": "code",
   "execution_count": null,
   "id": "67ff0af8",
   "metadata": {},
   "outputs": [
    {
     "name": "stdout",
     "output_type": "stream",
     "text": [
      "3 7 11 15 19 23 27 31 "
     ]
    }
   ],
   "source": [
    "a = 3\n",
    "d = 4\n",
    "for i in range(8):\n",
    "    print(a + i * d, end=' ')\n"
   ]
  },
  {
   "cell_type": "markdown",
   "id": "6f0a1d63",
   "metadata": {},
   "source": [
    "10. Write a Python program to print the first 6 terms of a geometric sequence starting\n",
    "with 2 and having a common ratio of 3.\n",
    "The program should output the following sequence:\n",
    "2 6 18 54 162 486"
   ]
  },
  {
   "cell_type": "code",
   "execution_count": null,
   "id": "ce5a2d01",
   "metadata": {},
   "outputs": [
    {
     "name": "stdout",
     "output_type": "stream",
     "text": [
      "2 6 18 54 162 486 "
     ]
    }
   ],
   "source": [
    "a = 2\n",
    "r = 3\n",
    "for i in range(6):\n",
    "    print(a * (r ** i), end=' ')\n"
   ]
  },
  {
   "cell_type": "markdown",
   "id": "712da1bd",
   "metadata": {},
   "source": [
    "11. Write a program that asks the user for a positive integer value. The program should\n",
    "calculate the sum of all the integers from 1 up to the number entered. For example, if\n",
    "the user enters 20, the loop will find the sum of 1, 2, 3, 4, ... 20. \n"
   ]
  },
  {
   "cell_type": "code",
   "execution_count": null,
   "id": "ac1f8ff5",
   "metadata": {},
   "outputs": [],
   "source": [
    "n = int(input(\"Enter a positive integer: \"))\n",
    "total_sum = 0\n",
    "for i in range(1, n + 1):\n",
    "    total_sum += i\n",
    "print(\"The sum of integers from 1 to\", n, \"is:\", total_sum)\n",
    "\n"
   ]
  },
  {
   "cell_type": "markdown",
   "id": "c708a64d",
   "metadata": {},
   "source": [
    "12. write a program that takes a positive integer N as input and calculates the sum of\n",
    "the reciprocals of all numbers from 1 up to N. The program should display the final sum. "
   ]
  },
  {
   "cell_type": "code",
   "execution_count": null,
   "id": "b82a0e64",
   "metadata": {},
   "outputs": [
    {
     "name": "stdout",
     "output_type": "stream",
     "text": [
      "The sum of reciprocals from 1 to 2 is: 1.5\n"
     ]
    }
   ],
   "source": [
    "N = int(input(\"Enter a positive integer: \"))\n",
    "sum_reciprocals = 0.0\n",
    "for i in range(1, N + 1):\n",
    "    sum_reciprocals += 1 / i\n",
    "print(\"The sum of reciprocals from 1 to\", N, \"is:\", round(sum_reciprocals, 2))\n"
   ]
  },
  {
   "cell_type": "markdown",
   "id": "5460e02e",
   "metadata": {},
   "source": [
    "13. Write a program that prompts the user to enter a number and repeats this process 5\n",
    "times. The program should accumulate the numbers entered and then display the final\n",
    "running total.\n",
    "Sample Output:\n",
    "Enter a number: 10\n",
    "Enter a number: 15\n",
    "Enter a number: 35\n",
    "Enter a number: 40\n",
    "Enter a number: 50\n",
    "The final running total is: 150 \n"
   ]
  },
  {
   "cell_type": "code",
   "execution_count": null,
   "id": "bed4639f",
   "metadata": {},
   "outputs": [],
   "source": [
    "total = 0\n",
    "for _ in range(5):\n",
    "    num = int(input(\"Enter a number: \"))\n",
    "    total += num\n",
    "print(\"The final running total is:\", total)\n"
   ]
  },
  {
   "cell_type": "markdown",
   "id": "69309dd0",
   "metadata": {},
   "source": [
    "14. Write a program that prompts the user to enter a positive integer and calculates its\n",
    "factorial. The factorial of a positive integer 'n' is denoted as 'n!' and is calculated by\n",
    "multiplying all the integers from 1 to 'n' together. For example, the factorial of 5\n",
    "(denoted as 5!) is calculated as 1 x 2 x 3 x 4 x 5. \n"
   ]
  },
  {
   "cell_type": "code",
   "execution_count": null,
   "id": "7b42682e",
   "metadata": {},
   "outputs": [
    {
     "name": "stdout",
     "output_type": "stream",
     "text": [
      "The factorial of 2 is: 2\n"
     ]
    }
   ],
   "source": [
    "n = int(input(\"Enter a positive integer: \"))\n",
    "if n < 0:\n",
    "    print(\"Factorial does not exist for negative numbers.\")\n",
    "elif n == 0:\n",
    "    print(\"The factorial of 0 is 1.\")\n",
    "else:\n",
    "    factorial = 1\n",
    "    for i in range(1, n + 1):\n",
    "        factorial *= i\n",
    "    print(\"The factorial of\", n, \"is:\", factorial)\n"
   ]
  },
  {
   "cell_type": "markdown",
   "id": "f12edcf4",
   "metadata": {},
   "source": [
    "15. Write a Python program that prompts the user to enter a base number and an\n",
    "exponent, and then calculates the power of the base to the exponent. The program\n",
    "should not use the exponentiation operator (**) or the math.pow() function. The\n",
    "program should handle both positive and negative exponents. "
   ]
  },
  {
   "cell_type": "code",
   "execution_count": null,
   "id": "8617d433",
   "metadata": {},
   "outputs": [
    {
     "name": "stdout",
     "output_type": "stream",
     "text": [
      "3 raised to the power of 4 is: 81\n"
     ]
    }
   ],
   "source": [
    "base = int(input(\"Enter the base number: \"))\n",
    "exponent = int(input(\"Enter the exponent: \"))\n",
    "result = 1\n",
    "abs_exponent = abs(exponent)\n",
    "\n",
    "for _ in range(abs_exponent):\n",
    "    result *= base\n",
    "\n",
    "if exponent < 0:\n",
    "    result = 1 / result\n",
    "\n",
    "print(f\"{base} raised to the power of {exponent} is: {result}\")\n"
   ]
  }
 ],
 "metadata": {
  "kernelspec": {
   "display_name": "Python 3 (ipykernel)",
   "language": "python",
   "name": "python3"
  },
  "language_info": {
   "codemirror_mode": {
    "name": "ipython",
    "version": 3
   },
   "file_extension": ".py",
   "mimetype": "text/x-python",
   "name": "python",
   "nbconvert_exporter": "python",
   "pygments_lexer": "ipython3",
   "version": "3.12.3"
  }
 },
 "nbformat": 4,
 "nbformat_minor": 5
}
